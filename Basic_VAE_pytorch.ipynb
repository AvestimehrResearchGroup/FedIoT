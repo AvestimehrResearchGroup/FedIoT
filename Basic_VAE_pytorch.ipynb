{
 "cells": [
  {
   "cell_type": "code",
   "execution_count": 12,
   "metadata": {},
   "outputs": [],
   "source": [
    "import torch\n",
    "import torchvision\n",
    "import torchvision.transforms as transforms\n",
    "import os\n",
    "import numpy as np\n",
    "import pandas as pd\n",
    "import torch.nn as nn\n",
    "import torch.nn.functional as F\n",
    "from matplotlib import pyplot as plt\n",
    "os.environ['KMP_DUPLICATE_LIB_OK']='True'"
   ]
  },
  {
   "cell_type": "code",
   "execution_count": 13,
   "metadata": {},
   "outputs": [],
   "source": [
    "db_benigh = np.array(pd.read_csv('benign_traffic.csv'))\n",
    "db_attack = np.array(pd.read_csv('ack.csv'))"
   ]
  },
  {
   "cell_type": "code",
   "execution_count": 7,
   "metadata": {},
   "outputs": [],
   "source": [
    "db_benigh = pd.read_csv('benign_traffic.csv')\n",
    "db_attack = pd.read_csv('ack.csv')\n",
    "trainset = db_benigh[1:round(len(db_benigh)*0.8)]\n",
    "val_benigh = db_benigh[round(len(db_benigh)*0.8):round(len(db_benigh)*0.9)]\n",
    "val_attack = db_attack[1:round(len(db_benigh)*0.1)]\n",
    "test_benigh = db_benigh[round(len(db_benigh)*0.9):len(db_benigh)]\n",
    "test_attack = db_attack[round(len(db_attack)*0.1):round(len(db_attack)*0.2)]\n",
    "valset = pd.concat([val_benigh,val_attack])\n",
    "testset = pd.concat([test_benigh,test_attack])\n",
    "trainset = (trainset - trainset.mean()) / (trainset.std())\n",
    "testset = (testset - testset.mean()) / (testset.std())\n",
    "trainset = np.array(trainset)\n",
    "valset = np.array(valset)\n",
    "testset = np.array(testset)\n",
    "testset = torch.Tensor(testset)\n",
    "trainset = torch.Tensor(trainset)\n",
    "testratio = 1 - abs((round(len(db_benigh)*0.9)-len(db_benigh))/len(testset))"
   ]
  },
  {
   "cell_type": "code",
   "execution_count": 9,
   "metadata": {},
   "outputs": [
    {
     "name": "stdout",
     "output_type": "stream",
     "text": [
      "4955 10219\n"
     ]
    }
   ],
   "source": [
    "print(len(test_benigh),\n",
    "len(test_attack))"
   ]
  },
  {
   "cell_type": "code",
   "execution_count": null,
   "metadata": {},
   "outputs": [],
   "source": [
    "batch_s = 32\n",
    "trainset = torch.Tensor(db_benigh)\n",
    "testset = torch.Tensor(db_attack[0:round(len(db_attack)*0.1)])\n",
    "trainset = (trainset - trainset.mean()) / (trainset.std())\n",
    "testset = (testset - testset.mean()) / (testset.std())\n",
    "trainloader = torch.utils.data.DataLoader(trainset,batch_size=batch_s,shuffle=False,num_workers=2)\n",
    "testloader = torch.utils.data.DataLoader(testset,batch_size=1,shuffle=False,num_workers=2)"
   ]
  },
  {
   "cell_type": "code",
   "execution_count": 15,
   "metadata": {},
   "outputs": [],
   "source": [
    "class AE(nn.Module):\n",
    "    def __init__(self):\n",
    "        super(AE, self).__init__()\n",
    "        self.enc = nn.Sequential(\n",
    "            nn.Linear(115, 64),\n",
    "            nn.ReLU(),\n",
    "            nn.Dropout(p = 0.1),\n",
    "            nn.Linear(64, 32),\n",
    "            nn.ReLU(),\n",
    "            nn.Dropout(p = 0.1),\n",
    "            nn.Linear(32, 16),\n",
    "            nn.ReLU()\n",
    "        )\n",
    "        self.dec = nn.Sequential(\n",
    "            nn.Linear(16, 32),\n",
    "            nn.ReLU(),\n",
    "            nn.Dropout(p = 0.1),\n",
    "            nn.Linear(32, 64),\n",
    "            nn.ReLU(),\n",
    "            nn.Dropout(p = 0.1),\n",
    "            nn.Linear(64, 115),\n",
    "            nn.ReLU()\n",
    "        )\n",
    "    def forward(self, x):\n",
    "        encode = self.enc(x)\n",
    "        decode = self.dec(encode)\n",
    "        return decode"
   ]
  },
  {
   "cell_type": "code",
   "execution_count": null,
   "metadata": {
    "code_folding": []
   },
   "outputs": [
    {
     "name": "stdout",
     "output_type": "stream",
     "text": [
      "0 38.25617795531866\n",
      "1 18.957361772632794\n",
      "2 15.549588491636769\n",
      "3 21.892371786763988\n",
      "4 26.1188965393153\n",
      "5 6.150738970528664\n",
      "6 13.005393012027298\n",
      "7 10.660070579350304\n",
      "8 9.921254428608336\n",
      "9 13.289690179857644\n"
     ]
    }
   ],
   "source": [
    "autoencoder = AE()\n",
    "autoencoder.train()\n",
    "optimizer = torch.optim.Adam(autoencoder.parameters(), lr=0.001)\n",
    "loss_func = nn.MSELoss()\n",
    "running_loss = 0.0\n",
    "for epoch in range(50):\n",
    "    \n",
    "    #mini- batch loop\n",
    "    epoch_loss = 0.0\n",
    "    for idx, inp in enumerate(trainloader):\n",
    "        optimizer.zero_grad() \n",
    "        decode = autoencoder(inp)\n",
    "        loss = loss_func(decode, inp) \n",
    "        epoch_loss  += loss.item() / batch_s\n",
    "        loss.backward() \n",
    "        optimizer.step()\n",
    "    print( epoch , epoch_loss )\n",
    "        \n",
    "    running_loss += epoch_loss"
   ]
  },
  {
   "cell_type": "code",
   "execution_count": 10,
   "metadata": {
    "code_folding": []
   },
   "outputs": [
    {
     "ename": "NameError",
     "evalue": "name 'trainloader' is not defined",
     "output_type": "error",
     "traceback": [
      "\u001b[0;31m---------------------------------------------------------------------------\u001b[0m",
      "\u001b[0;31mNameError\u001b[0m                                 Traceback (most recent call last)",
      "\u001b[0;32m<ipython-input-10-4b41235bf861>\u001b[0m in \u001b[0;36m<module>\u001b[0;34m\u001b[0m\n\u001b[1;32m      1\u001b[0m \u001b[0mthreshold\u001b[0m \u001b[0;34m=\u001b[0m \u001b[0;36m0\u001b[0m\u001b[0;34m\u001b[0m\u001b[0;34m\u001b[0m\u001b[0m\n\u001b[1;32m      2\u001b[0m \u001b[0ma\u001b[0m \u001b[0;34m=\u001b[0m \u001b[0;36m0\u001b[0m\u001b[0;34m;\u001b[0m\u001b[0;34m\u001b[0m\u001b[0;34m\u001b[0m\u001b[0m\n\u001b[0;32m----> 3\u001b[0;31m \u001b[0;32mfor\u001b[0m \u001b[0midx\u001b[0m\u001b[0;34m,\u001b[0m \u001b[0minp\u001b[0m \u001b[0;32min\u001b[0m \u001b[0menumerate\u001b[0m\u001b[0;34m(\u001b[0m\u001b[0mtrainloader\u001b[0m\u001b[0;34m)\u001b[0m\u001b[0;34m:\u001b[0m\u001b[0;34m\u001b[0m\u001b[0;34m\u001b[0m\u001b[0m\n\u001b[0m\u001b[1;32m      4\u001b[0m     \u001b[0mi\u001b[0m \u001b[0;34m=\u001b[0m \u001b[0mmax\u001b[0m\u001b[0;34m(\u001b[0m\u001b[0msum\u001b[0m\u001b[0;34m(\u001b[0m\u001b[0mabs\u001b[0m\u001b[0;34m(\u001b[0m\u001b[0mautoencoder\u001b[0m\u001b[0;34m(\u001b[0m\u001b[0minp\u001b[0m\u001b[0;34m)\u001b[0m \u001b[0;34m-\u001b[0m \u001b[0minp\u001b[0m\u001b[0;34m)\u001b[0m\u001b[0;34m)\u001b[0m\u001b[0;34m)\u001b[0m\u001b[0;34m\u001b[0m\u001b[0;34m\u001b[0m\u001b[0m\n\u001b[1;32m      5\u001b[0m     \u001b[0mprint\u001b[0m\u001b[0;34m(\u001b[0m\u001b[0;34m\"inp is: \"\u001b[0m\u001b[0;34m,\u001b[0m \u001b[0minp\u001b[0m\u001b[0;34m)\u001b[0m\u001b[0;34m\u001b[0m\u001b[0;34m\u001b[0m\u001b[0m\n",
      "\u001b[0;31mNameError\u001b[0m: name 'trainloader' is not defined"
     ]
    }
   ],
   "source": [
    "threshold = 0\n",
    "a = 0;\n",
    "for idx, inp in enumerate(trainloader):\n",
    "    i = max(sum(abs(autoencoder(inp) - inp)))\n",
    "    print(\"inp is: \", inp)\n",
    "    print(\"output is: \",autoencoder(inp))\n",
    "    print(\"number is: \",idx)\n",
    "    if i > threshold:\n",
    "        threshold = i\n",
    "    a += 1\n",
    "    if idx > 3:\n",
    "        break\n",
    "print('threshold is', threshold, a)"
   ]
  },
  {
   "cell_type": "code",
   "execution_count": 27,
   "metadata": {},
   "outputs": [
    {
     "name": "stdout",
     "output_type": "stream",
     "text": [
      "The accuracy is  1.0000978569331636\n"
     ]
    }
   ],
   "source": [
    "autoencoder.eval()\n",
    "anmoaly = []\n",
    "for idx, inp in enumerate(testloader):\n",
    "    decode = autoencoder(inp)\n",
    "    diff = torch.sum(abs(inp-decode))\n",
    "    if diff > 0.3516:\n",
    "        anmoaly.append(idx)\n",
    "an_ratio = len(anmoaly)/len(testset)\n",
    "print('The accuracy is ',an_ratio/testratio)"
   ]
  },
  {
   "cell_type": "code",
   "execution_count": 30,
   "metadata": {},
   "outputs": [
    {
     "data": {
      "text/plain": [
       "49548"
      ]
     },
     "execution_count": 30,
     "metadata": {},
     "output_type": "execute_result"
    }
   ],
   "source": [
    "len(trainloader.dataset)"
   ]
  },
  {
   "cell_type": "code",
   "execution_count": 31,
   "metadata": {},
   "outputs": [
    {
     "name": "stdout",
     "output_type": "stream",
     "text": [
      "Saved PyTorch Model State to model.pth\n"
     ]
    }
   ],
   "source": [
    "torch.save(autoencoder.state_dict(), \"vae_v1.pth\")\n",
    "print(\"Saved PyTorch Model State to model.pth\")"
   ]
  },
  {
   "cell_type": "code",
   "execution_count": null,
   "metadata": {},
   "outputs": [],
   "source": [
    "testra"
   ]
  }
 ],
 "metadata": {
  "kernelspec": {
   "display_name": "Python 3",
   "language": "python",
   "name": "python3"
  },
  "language_info": {
   "codemirror_mode": {
    "name": "ipython",
    "version": 3
   },
   "file_extension": ".py",
   "mimetype": "text/x-python",
   "name": "python",
   "nbconvert_exporter": "python",
   "pygments_lexer": "ipython3",
   "version": "3.7.4"
  },
  "varInspector": {
   "cols": {
    "lenName": 16,
    "lenType": 16,
    "lenVar": 40
   },
   "kernels_config": {
    "python": {
     "delete_cmd_postfix": "",
     "delete_cmd_prefix": "del ",
     "library": "var_list.py",
     "varRefreshCmd": "print(var_dic_list())"
    },
    "r": {
     "delete_cmd_postfix": ") ",
     "delete_cmd_prefix": "rm(",
     "library": "var_list.r",
     "varRefreshCmd": "cat(var_dic_list()) "
    }
   },
   "position": {
    "height": "144px",
    "left": "506px",
    "right": "20px",
    "top": "193px",
    "width": "350px"
   },
   "types_to_exclude": [
    "module",
    "function",
    "builtin_function_or_method",
    "instance",
    "_Feature"
   ],
   "window_display": false
  }
 },
 "nbformat": 4,
 "nbformat_minor": 4
}
